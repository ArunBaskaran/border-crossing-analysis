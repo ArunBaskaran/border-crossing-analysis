{
 "cells": [
  {
   "cell_type": "code",
   "execution_count": 34,
   "metadata": {},
   "outputs": [],
   "source": [
    "import pandas as pd"
   ]
  },
  {
   "cell_type": "code",
   "execution_count": 35,
   "metadata": {},
   "outputs": [],
   "source": [
    "df = pd.read_csv(\"input/Border_Crossing_Entry_Data.csv\")"
   ]
  },
  {
   "cell_type": "code",
   "execution_count": 36,
   "metadata": {},
   "outputs": [
    {
     "data": {
      "text/html": [
       "<div>\n",
       "<style scoped>\n",
       "    .dataframe tbody tr th:only-of-type {\n",
       "        vertical-align: middle;\n",
       "    }\n",
       "\n",
       "    .dataframe tbody tr th {\n",
       "        vertical-align: top;\n",
       "    }\n",
       "\n",
       "    .dataframe thead th {\n",
       "        text-align: right;\n",
       "    }\n",
       "</style>\n",
       "<table border=\"1\" class=\"dataframe\">\n",
       "  <thead>\n",
       "    <tr style=\"text-align: right;\">\n",
       "      <th></th>\n",
       "      <th>Port Name</th>\n",
       "      <th>State</th>\n",
       "      <th>Port Code</th>\n",
       "      <th>Border</th>\n",
       "      <th>Date</th>\n",
       "      <th>Measure</th>\n",
       "      <th>Value</th>\n",
       "    </tr>\n",
       "  </thead>\n",
       "  <tbody>\n",
       "    <tr>\n",
       "      <td>0</td>\n",
       "      <td>Alexandria Bay</td>\n",
       "      <td>NY</td>\n",
       "      <td>708</td>\n",
       "      <td>US-Canada Border</td>\n",
       "      <td>12/01/2019 12:00:00 AM</td>\n",
       "      <td>Bus Passengers</td>\n",
       "      <td>740</td>\n",
       "    </tr>\n",
       "    <tr>\n",
       "      <td>1</td>\n",
       "      <td>Baudette</td>\n",
       "      <td>MN</td>\n",
       "      <td>3424</td>\n",
       "      <td>US-Canada Border</td>\n",
       "      <td>12/01/2019 12:00:00 AM</td>\n",
       "      <td>Bus Passengers</td>\n",
       "      <td>83</td>\n",
       "    </tr>\n",
       "    <tr>\n",
       "      <td>2</td>\n",
       "      <td>Blaine</td>\n",
       "      <td>WA</td>\n",
       "      <td>3004</td>\n",
       "      <td>US-Canada Border</td>\n",
       "      <td>12/01/2019 12:00:00 AM</td>\n",
       "      <td>Bus Passengers</td>\n",
       "      <td>17029</td>\n",
       "    </tr>\n",
       "    <tr>\n",
       "      <td>3</td>\n",
       "      <td>Brownsville</td>\n",
       "      <td>TX</td>\n",
       "      <td>2301</td>\n",
       "      <td>US-Mexico Border</td>\n",
       "      <td>12/01/2019 12:00:00 AM</td>\n",
       "      <td>Bus Passengers</td>\n",
       "      <td>4668</td>\n",
       "    </tr>\n",
       "    <tr>\n",
       "      <td>4</td>\n",
       "      <td>Buffalo-Niagara Falls</td>\n",
       "      <td>NY</td>\n",
       "      <td>901</td>\n",
       "      <td>US-Canada Border</td>\n",
       "      <td>12/01/2019 12:00:00 AM</td>\n",
       "      <td>Bus Passengers</td>\n",
       "      <td>9910</td>\n",
       "    </tr>\n",
       "    <tr>\n",
       "      <td>...</td>\n",
       "      <td>...</td>\n",
       "      <td>...</td>\n",
       "      <td>...</td>\n",
       "      <td>...</td>\n",
       "      <td>...</td>\n",
       "      <td>...</td>\n",
       "      <td>...</td>\n",
       "    </tr>\n",
       "    <tr>\n",
       "      <td>353957</td>\n",
       "      <td>Antler</td>\n",
       "      <td>ND</td>\n",
       "      <td>3413</td>\n",
       "      <td>US-Canada Border</td>\n",
       "      <td>01/01/1996 12:00:00 AM</td>\n",
       "      <td>Personal Vehicle Passengers</td>\n",
       "      <td>1576</td>\n",
       "    </tr>\n",
       "    <tr>\n",
       "      <td>353958</td>\n",
       "      <td>Tecate</td>\n",
       "      <td>CA</td>\n",
       "      <td>2505</td>\n",
       "      <td>US-Mexico Border</td>\n",
       "      <td>01/01/1996 12:00:00 AM</td>\n",
       "      <td>Trucks</td>\n",
       "      <td>3228</td>\n",
       "    </tr>\n",
       "    <tr>\n",
       "      <td>353959</td>\n",
       "      <td>Calais</td>\n",
       "      <td>ME</td>\n",
       "      <td>115</td>\n",
       "      <td>US-Canada Border</td>\n",
       "      <td>01/01/1996 12:00:00 AM</td>\n",
       "      <td>Trucks</td>\n",
       "      <td>8955</td>\n",
       "    </tr>\n",
       "    <tr>\n",
       "      <td>353960</td>\n",
       "      <td>Carbury</td>\n",
       "      <td>ND</td>\n",
       "      <td>3421</td>\n",
       "      <td>US-Canada Border</td>\n",
       "      <td>01/01/1996 12:00:00 AM</td>\n",
       "      <td>Truck Containers Empty</td>\n",
       "      <td>0</td>\n",
       "    </tr>\n",
       "    <tr>\n",
       "      <td>353961</td>\n",
       "      <td>Skagway</td>\n",
       "      <td>AK</td>\n",
       "      <td>3103</td>\n",
       "      <td>US-Canada Border</td>\n",
       "      <td>01/01/1996 12:00:00 AM</td>\n",
       "      <td>Buses</td>\n",
       "      <td>3</td>\n",
       "    </tr>\n",
       "  </tbody>\n",
       "</table>\n",
       "<p>353962 rows × 7 columns</p>\n",
       "</div>"
      ],
      "text/plain": [
       "                    Port Name State  Port Code            Border  \\\n",
       "0              Alexandria Bay    NY        708  US-Canada Border   \n",
       "1                    Baudette    MN       3424  US-Canada Border   \n",
       "2                      Blaine    WA       3004  US-Canada Border   \n",
       "3                 Brownsville    TX       2301  US-Mexico Border   \n",
       "4       Buffalo-Niagara Falls    NY        901  US-Canada Border   \n",
       "...                       ...   ...        ...               ...   \n",
       "353957                 Antler    ND       3413  US-Canada Border   \n",
       "353958                 Tecate    CA       2505  US-Mexico Border   \n",
       "353959                 Calais    ME        115  US-Canada Border   \n",
       "353960                Carbury    ND       3421  US-Canada Border   \n",
       "353961                Skagway    AK       3103  US-Canada Border   \n",
       "\n",
       "                          Date                      Measure  Value  \n",
       "0       12/01/2019 12:00:00 AM               Bus Passengers    740  \n",
       "1       12/01/2019 12:00:00 AM               Bus Passengers     83  \n",
       "2       12/01/2019 12:00:00 AM               Bus Passengers  17029  \n",
       "3       12/01/2019 12:00:00 AM               Bus Passengers   4668  \n",
       "4       12/01/2019 12:00:00 AM               Bus Passengers   9910  \n",
       "...                        ...                          ...    ...  \n",
       "353957  01/01/1996 12:00:00 AM  Personal Vehicle Passengers   1576  \n",
       "353958  01/01/1996 12:00:00 AM                       Trucks   3228  \n",
       "353959  01/01/1996 12:00:00 AM                       Trucks   8955  \n",
       "353960  01/01/1996 12:00:00 AM       Truck Containers Empty      0  \n",
       "353961  01/01/1996 12:00:00 AM                        Buses      3  \n",
       "\n",
       "[353962 rows x 7 columns]"
      ]
     },
     "execution_count": 36,
     "metadata": {},
     "output_type": "execute_result"
    }
   ],
   "source": [
    "df"
   ]
  },
  {
   "cell_type": "code",
   "execution_count": 45,
   "metadata": {},
   "outputs": [
    {
     "data": {
      "text/plain": [
       "29366"
      ]
     },
     "execution_count": 45,
     "metadata": {},
     "output_type": "execute_result"
    }
   ],
   "source": [
    "bpm = df[(df.Measure==\"Bus Passengers\") & (df.Border==\"US-Mexico Border\")]\n",
    "bpm_values = bpm['Value']\n",
    "\n",
    "bpc = df[(df.Measure==\"Bus Passengers\") & (df.Border==\"US-Canada Border\")]\n",
    "bpc_values = bpc['Value']\n",
    "\n",
    "len(bpm_values) + len(bpc_values)"
   ]
  },
  {
   "cell_type": "code",
   "execution_count": 50,
   "metadata": {},
   "outputs": [
    {
     "name": "stdout",
     "output_type": "stream",
     "text": [
      "69657843 75801427\n",
      "243558.8916083916 265039.95454545453\n"
     ]
    }
   ],
   "source": [
    "bpmsum = sum(list(bpm_values))\n",
    "bpcsum = sum(list(bpc_values))\n",
    "mp = 24*12-1\n",
    "print(bpmsum, bpcsum)\n",
    "print(bpmsum/(mp-1), bpcsum/(mp-1))"
   ]
  },
  {
   "cell_type": "code",
   "execution_count": 40,
   "metadata": {},
   "outputs": [
    {
     "data": {
      "text/plain": [
       "288"
      ]
     },
     "execution_count": 40,
     "metadata": {},
     "output_type": "execute_result"
    }
   ],
   "source": [
    "24*12"
   ]
  },
  {
   "cell_type": "code",
   "execution_count": 51,
   "metadata": {},
   "outputs": [
    {
     "data": {
      "text/plain": [
       "242029.9825783972"
      ]
     },
     "execution_count": 51,
     "metadata": {},
     "output_type": "execute_result"
    }
   ],
   "source": [
    "(69657843-195238)/(mp)"
   ]
  },
  {
   "cell_type": "code",
   "execution_count": null,
   "metadata": {},
   "outputs": [],
   "source": []
  }
 ],
 "metadata": {
  "kernelspec": {
   "display_name": "Python 3",
   "language": "python",
   "name": "python3"
  },
  "language_info": {
   "codemirror_mode": {
    "name": "ipython",
    "version": 3
   },
   "file_extension": ".py",
   "mimetype": "text/x-python",
   "name": "python",
   "nbconvert_exporter": "python",
   "pygments_lexer": "ipython3",
   "version": "3.7.4"
  }
 },
 "nbformat": 4,
 "nbformat_minor": 2
}
